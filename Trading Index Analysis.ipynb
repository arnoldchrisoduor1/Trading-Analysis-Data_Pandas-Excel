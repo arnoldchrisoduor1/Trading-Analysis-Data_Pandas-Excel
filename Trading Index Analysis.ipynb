{
 "cells": [
  {
   "cell_type": "markdown",
   "id": "46db19d0",
   "metadata": {},
   "source": [
    "# Trends Dataset Analysis"
   ]
  },
  {
   "cell_type": "code",
   "execution_count": 1,
   "id": "6dafa65a",
   "metadata": {},
   "outputs": [],
   "source": [
    "import pandas as pd\n",
    "import seaborn as sns\n",
    "import matplotlib.pyplot as plt"
   ]
  },
  {
   "cell_type": "code",
   "execution_count": 2,
   "id": "084aa9fa",
   "metadata": {},
   "outputs": [],
   "source": [
    "data = pd.read_csv(r\"C:\\Users\\arnol\\OneDrive\\Documents\\Trends\\clean_trends.csv\")"
   ]
  },
  {
   "cell_type": "code",
   "execution_count": 3,
   "id": "b8ce60f1",
   "metadata": {},
   "outputs": [
    {
     "data": {
      "text/html": [
       "<div>\n",
       "<style scoped>\n",
       "    .dataframe tbody tr th:only-of-type {\n",
       "        vertical-align: middle;\n",
       "    }\n",
       "\n",
       "    .dataframe tbody tr th {\n",
       "        vertical-align: top;\n",
       "    }\n",
       "\n",
       "    .dataframe thead th {\n",
       "        text-align: right;\n",
       "    }\n",
       "</style>\n",
       "<table border=\"1\" class=\"dataframe\">\n",
       "  <thead>\n",
       "    <tr style=\"text-align: right;\">\n",
       "      <th></th>\n",
       "      <th>&lt;TREND&gt;</th>\n",
       "      <th>&lt;CHANGE&gt;</th>\n",
       "      <th>&lt;START&gt;</th>\n",
       "      <th>&lt;STOP&gt;</th>\n",
       "      <th>&lt;BEGIN&gt;</th>\n",
       "      <th>&lt;END&gt;</th>\n",
       "    </tr>\n",
       "  </thead>\n",
       "  <tbody>\n",
       "    <tr>\n",
       "      <th>0</th>\n",
       "      <td>SELL</td>\n",
       "      <td>-0.17005</td>\n",
       "      <td>2019.12.31 22:17</td>\n",
       "      <td>2019.12.31 23:25</td>\n",
       "      <td>10291.1</td>\n",
       "      <td>10273.6</td>\n",
       "    </tr>\n",
       "    <tr>\n",
       "      <th>1</th>\n",
       "      <td>BUY</td>\n",
       "      <td>0.07203</td>\n",
       "      <td>2019.12.31 23:25</td>\n",
       "      <td>2019.12.31 23:50</td>\n",
       "      <td>10273.6</td>\n",
       "      <td>10281.0</td>\n",
       "    </tr>\n",
       "    <tr>\n",
       "      <th>2</th>\n",
       "      <td>SELL</td>\n",
       "      <td>-0.07392</td>\n",
       "      <td>2019.12.31 23:50</td>\n",
       "      <td>2020.01.01 00:43</td>\n",
       "      <td>10281.0</td>\n",
       "      <td>10273.4</td>\n",
       "    </tr>\n",
       "    <tr>\n",
       "      <th>3</th>\n",
       "      <td>BUY</td>\n",
       "      <td>0.05548</td>\n",
       "      <td>2020.01.01 00:43</td>\n",
       "      <td>2020.01.01 01:01</td>\n",
       "      <td>10273.4</td>\n",
       "      <td>10279.1</td>\n",
       "    </tr>\n",
       "    <tr>\n",
       "      <th>4</th>\n",
       "      <td>SELL</td>\n",
       "      <td>-0.21792</td>\n",
       "      <td>2020.01.01 01:01</td>\n",
       "      <td>2020.01.01 02:16</td>\n",
       "      <td>10279.1</td>\n",
       "      <td>10256.7</td>\n",
       "    </tr>\n",
       "  </tbody>\n",
       "</table>\n",
       "</div>"
      ],
      "text/plain": [
       "  <TREND>  <CHANGE>           <START>            <STOP>  <BEGIN>    <END>\n",
       "0    SELL  -0.17005  2019.12.31 22:17  2019.12.31 23:25  10291.1  10273.6\n",
       "1     BUY   0.07203  2019.12.31 23:25  2019.12.31 23:50  10273.6  10281.0\n",
       "2    SELL  -0.07392  2019.12.31 23:50  2020.01.01 00:43  10281.0  10273.4\n",
       "3     BUY   0.05548  2020.01.01 00:43  2020.01.01 01:01  10273.4  10279.1\n",
       "4    SELL  -0.21792  2020.01.01 01:01  2020.01.01 02:16  10279.1  10256.7"
      ]
     },
     "execution_count": 3,
     "metadata": {},
     "output_type": "execute_result"
    }
   ],
   "source": [
    "data.head()"
   ]
  },
  {
   "cell_type": "code",
   "execution_count": 4,
   "id": "674c9b52",
   "metadata": {},
   "outputs": [
    {
     "data": {
      "text/plain": [
       "(38883, 6)"
      ]
     },
     "execution_count": 4,
     "metadata": {},
     "output_type": "execute_result"
    }
   ],
   "source": [
    "data.shape"
   ]
  },
  {
   "cell_type": "code",
   "execution_count": 5,
   "id": "f6541cdb",
   "metadata": {},
   "outputs": [
    {
     "name": "stdout",
     "output_type": "stream",
     "text": [
      "<class 'pandas.core.frame.DataFrame'>\n",
      "RangeIndex: 38883 entries, 0 to 38882\n",
      "Data columns (total 6 columns):\n",
      " #   Column    Non-Null Count  Dtype  \n",
      "---  ------    --------------  -----  \n",
      " 0   <TREND>   38883 non-null  object \n",
      " 1   <CHANGE>  38883 non-null  float64\n",
      " 2   <START>   38883 non-null  object \n",
      " 3   <STOP>    38883 non-null  object \n",
      " 4   <BEGIN>   38883 non-null  float64\n",
      " 5   <END>     38883 non-null  float64\n",
      "dtypes: float64(3), object(3)\n",
      "memory usage: 1.8+ MB\n"
     ]
    }
   ],
   "source": [
    "data.info()"
   ]
  },
  {
   "cell_type": "code",
   "execution_count": 6,
   "id": "a30aba02",
   "metadata": {},
   "outputs": [
    {
     "data": {
      "text/html": [
       "<div>\n",
       "<style scoped>\n",
       "    .dataframe tbody tr th:only-of-type {\n",
       "        vertical-align: middle;\n",
       "    }\n",
       "\n",
       "    .dataframe tbody tr th {\n",
       "        vertical-align: top;\n",
       "    }\n",
       "\n",
       "    .dataframe thead th {\n",
       "        text-align: right;\n",
       "    }\n",
       "</style>\n",
       "<table border=\"1\" class=\"dataframe\">\n",
       "  <thead>\n",
       "    <tr style=\"text-align: right;\">\n",
       "      <th></th>\n",
       "      <th>&lt;CHANGE&gt;</th>\n",
       "      <th>&lt;BEGIN&gt;</th>\n",
       "      <th>&lt;END&gt;</th>\n",
       "    </tr>\n",
       "  </thead>\n",
       "  <tbody>\n",
       "    <tr>\n",
       "      <th>count</th>\n",
       "      <td>38883.000000</td>\n",
       "      <td>38883.000000</td>\n",
       "      <td>38883.000000</td>\n",
       "    </tr>\n",
       "    <tr>\n",
       "      <th>mean</th>\n",
       "      <td>-0.000387</td>\n",
       "      <td>9173.650673</td>\n",
       "      <td>9173.605918</td>\n",
       "    </tr>\n",
       "    <tr>\n",
       "      <th>std</th>\n",
       "      <td>0.134009</td>\n",
       "      <td>538.226938</td>\n",
       "      <td>538.206367</td>\n",
       "    </tr>\n",
       "    <tr>\n",
       "      <th>min</th>\n",
       "      <td>-0.695650</td>\n",
       "      <td>8279.500000</td>\n",
       "      <td>8279.500000</td>\n",
       "    </tr>\n",
       "    <tr>\n",
       "      <th>25%</th>\n",
       "      <td>-0.101090</td>\n",
       "      <td>8725.400000</td>\n",
       "      <td>8725.350000</td>\n",
       "    </tr>\n",
       "    <tr>\n",
       "      <th>50%</th>\n",
       "      <td>-0.028840</td>\n",
       "      <td>9003.700000</td>\n",
       "      <td>9003.400000</td>\n",
       "    </tr>\n",
       "    <tr>\n",
       "      <th>75%</th>\n",
       "      <td>0.099820</td>\n",
       "      <td>9684.500000</td>\n",
       "      <td>9684.450000</td>\n",
       "    </tr>\n",
       "    <tr>\n",
       "      <th>max</th>\n",
       "      <td>0.657730</td>\n",
       "      <td>10291.100000</td>\n",
       "      <td>10281.000000</td>\n",
       "    </tr>\n",
       "  </tbody>\n",
       "</table>\n",
       "</div>"
      ],
      "text/plain": [
       "           <CHANGE>       <BEGIN>         <END>\n",
       "count  38883.000000  38883.000000  38883.000000\n",
       "mean      -0.000387   9173.650673   9173.605918\n",
       "std        0.134009    538.226938    538.206367\n",
       "min       -0.695650   8279.500000   8279.500000\n",
       "25%       -0.101090   8725.400000   8725.350000\n",
       "50%       -0.028840   9003.700000   9003.400000\n",
       "75%        0.099820   9684.500000   9684.450000\n",
       "max        0.657730  10291.100000  10281.000000"
      ]
     },
     "execution_count": 6,
     "metadata": {},
     "output_type": "execute_result"
    }
   ],
   "source": [
    "data.describe()"
   ]
  },
  {
   "cell_type": "markdown",
   "id": "cce68315",
   "metadata": {},
   "source": [
    "### Checking for Null values"
   ]
  },
  {
   "cell_type": "code",
   "execution_count": 7,
   "id": "1911d141",
   "metadata": {},
   "outputs": [
    {
     "data": {
      "text/plain": [
       "<Axes: >"
      ]
     },
     "execution_count": 7,
     "metadata": {},
     "output_type": "execute_result"
    },
    {
     "data": {
      "image/png": "[encoded data removed]",
      "text/plain": [
       "<Figure size 640x480 with 2 Axes>"
      ]
     },
     "metadata": {},
     "output_type": "display_data"
    }
   ],
   "source": [
    "sns.heatmap(data.isnull())"
   ]
  },
  {
   "cell_type": "markdown",
   "id": "66c67091",
   "metadata": {},
   "source": [
    "### Checking for Duplicate Values"
   ]
  },
  {
   "cell_type": "code",
   "execution_count": 8,
   "id": "3af526d1",
   "metadata": {},
   "outputs": [
    {
     "data": {
      "text/plain": [
       "False"
      ]
     },
     "execution_count": 8,
     "metadata": {},
     "output_type": "execute_result"
    }
   ],
   "source": [
    "data.duplicated().any()"
   ]
  },
  {
   "cell_type": "markdown",
   "id": "5e0a8056",
   "metadata": {},
   "source": [
    "### Changing the Column Names"
   ]
  },
  {
   "cell_type": "code",
   "execution_count": 9,
   "id": "ebc066c2",
   "metadata": {},
   "outputs": [
    {
     "data": {
      "text/plain": [
       "Index(['<TREND>', '<CHANGE>', '<START>', '<STOP>', '<BEGIN>', '<END>'], dtype='object')"
      ]
     },
     "execution_count": 9,
     "metadata": {},
     "output_type": "execute_result"
    }
   ],
   "source": [
    "data.columns"
   ]
  },
  {
   "cell_type": "code",
   "execution_count": 10,
   "id": "66d66335",
   "metadata": {},
   "outputs": [],
   "source": [
    "data2 = pd.DataFrame(data)"
   ]
  },
  {
   "cell_type": "code",
   "execution_count": 11,
   "id": "725d57e9",
   "metadata": {},
   "outputs": [],
   "source": [
    "data2.columns = [col.strip('<>').strip() for col in data2.columns]"
   ]
  },
  {
   "cell_type": "code",
   "execution_count": 12,
   "id": "c2d59397",
   "metadata": {},
   "outputs": [
    {
     "data": {
      "text/html": [
       "<div>\n",
       "<style scoped>\n",
       "    .dataframe tbody tr th:only-of-type {\n",
       "        vertical-align: middle;\n",
       "    }\n",
       "\n",
       "    .dataframe tbody tr th {\n",
       "        vertical-align: top;\n",
       "    }\n",
       "\n",
       "    .dataframe thead th {\n",
       "        text-align: right;\n",
       "    }\n",
       "</style>\n",
       "<table border=\"1\" class=\"dataframe\">\n",
       "  <thead>\n",
       "    <tr style=\"text-align: right;\">\n",
       "      <th></th>\n",
       "      <th>TREND</th>\n",
       "      <th>CHANGE</th>\n",
       "      <th>START</th>\n",
       "      <th>STOP</th>\n",
       "      <th>BEGIN</th>\n",
       "      <th>END</th>\n",
       "    </tr>\n",
       "  </thead>\n",
       "  <tbody>\n",
       "    <tr>\n",
       "      <th>0</th>\n",
       "      <td>SELL</td>\n",
       "      <td>-0.17005</td>\n",
       "      <td>2019.12.31 22:17</td>\n",
       "      <td>2019.12.31 23:25</td>\n",
       "      <td>10291.1</td>\n",
       "      <td>10273.6</td>\n",
       "    </tr>\n",
       "    <tr>\n",
       "      <th>1</th>\n",
       "      <td>BUY</td>\n",
       "      <td>0.07203</td>\n",
       "      <td>2019.12.31 23:25</td>\n",
       "      <td>2019.12.31 23:50</td>\n",
       "      <td>10273.6</td>\n",
       "      <td>10281.0</td>\n",
       "    </tr>\n",
       "    <tr>\n",
       "      <th>2</th>\n",
       "      <td>SELL</td>\n",
       "      <td>-0.07392</td>\n",
       "      <td>2019.12.31 23:50</td>\n",
       "      <td>2020.01.01 00:43</td>\n",
       "      <td>10281.0</td>\n",
       "      <td>10273.4</td>\n",
       "    </tr>\n",
       "    <tr>\n",
       "      <th>3</th>\n",
       "      <td>BUY</td>\n",
       "      <td>0.05548</td>\n",
       "      <td>2020.01.01 00:43</td>\n",
       "      <td>2020.01.01 01:01</td>\n",
       "      <td>10273.4</td>\n",
       "      <td>10279.1</td>\n",
       "    </tr>\n",
       "    <tr>\n",
       "      <th>4</th>\n",
       "      <td>SELL</td>\n",
       "      <td>-0.21792</td>\n",
       "      <td>2020.01.01 01:01</td>\n",
       "      <td>2020.01.01 02:16</td>\n",
       "      <td>10279.1</td>\n",
       "      <td>10256.7</td>\n",
       "    </tr>\n",
       "    <tr>\n",
       "      <th>...</th>\n",
       "      <td>...</td>\n",
       "      <td>...</td>\n",
       "      <td>...</td>\n",
       "      <td>...</td>\n",
       "      <td>...</td>\n",
       "      <td>...</td>\n",
       "    </tr>\n",
       "    <tr>\n",
       "      <th>38878</th>\n",
       "      <td>SELL</td>\n",
       "      <td>-0.13070</td>\n",
       "      <td>2023.11.07 18:41</td>\n",
       "      <td>2023.11.07 20:27</td>\n",
       "      <td>8569.1</td>\n",
       "      <td>8557.9</td>\n",
       "    </tr>\n",
       "    <tr>\n",
       "      <th>38879</th>\n",
       "      <td>BUY</td>\n",
       "      <td>0.12269</td>\n",
       "      <td>2023.11.07 20:27</td>\n",
       "      <td>2023.11.07 21:08</td>\n",
       "      <td>8557.9</td>\n",
       "      <td>8568.4</td>\n",
       "    </tr>\n",
       "    <tr>\n",
       "      <th>38880</th>\n",
       "      <td>SELL</td>\n",
       "      <td>-0.13772</td>\n",
       "      <td>2023.11.07 21:08</td>\n",
       "      <td>2023.11.07 21:45</td>\n",
       "      <td>8568.4</td>\n",
       "      <td>8556.6</td>\n",
       "    </tr>\n",
       "    <tr>\n",
       "      <th>38881</th>\n",
       "      <td>BUY</td>\n",
       "      <td>0.08415</td>\n",
       "      <td>2023.11.07 21:45</td>\n",
       "      <td>2023.11.07 22:03</td>\n",
       "      <td>8556.6</td>\n",
       "      <td>8563.8</td>\n",
       "    </tr>\n",
       "    <tr>\n",
       "      <th>38882</th>\n",
       "      <td>SELL</td>\n",
       "      <td>-0.15063</td>\n",
       "      <td>2023.11.07 22:03</td>\n",
       "      <td>2023.11.07 23:28</td>\n",
       "      <td>8563.8</td>\n",
       "      <td>8550.9</td>\n",
       "    </tr>\n",
       "  </tbody>\n",
       "</table>\n",
       "<p>38883 rows × 6 columns</p>\n",
       "</div>"
      ],
      "text/plain": [
       "      TREND   CHANGE             START              STOP    BEGIN      END\n",
       "0      SELL -0.17005  2019.12.31 22:17  2019.12.31 23:25  10291.1  10273.6\n",
       "1       BUY  0.07203  2019.12.31 23:25  2019.12.31 23:50  10273.6  10281.0\n",
       "2      SELL -0.07392  2019.12.31 23:50  2020.01.01 00:43  10281.0  10273.4\n",
       "3       BUY  0.05548  2020.01.01 00:43  2020.01.01 01:01  10273.4  10279.1\n",
       "4      SELL -0.21792  2020.01.01 01:01  2020.01.01 02:16  10279.1  10256.7\n",
       "...     ...      ...               ...               ...      ...      ...\n",
       "38878  SELL -0.13070  2023.11.07 18:41  2023.11.07 20:27   8569.1   8557.9\n",
       "38879   BUY  0.12269  2023.11.07 20:27  2023.11.07 21:08   8557.9   8568.4\n",
       "38880  SELL -0.13772  2023.11.07 21:08  2023.11.07 21:45   8568.4   8556.6\n",
       "38881   BUY  0.08415  2023.11.07 21:45  2023.11.07 22:03   8556.6   8563.8\n",
       "38882  SELL -0.15063  2023.11.07 22:03  2023.11.07 23:28   8563.8   8550.9\n",
       "\n",
       "[38883 rows x 6 columns]"
      ]
     },
     "execution_count": 12,
     "metadata": {},
     "output_type": "execute_result"
    }
   ],
   "source": [
    "data2"
   ]
  },
  {
   "cell_type": "markdown",
   "id": "b27a96fa",
   "metadata": {},
   "source": [
    "### Adding Price Difference Column"
   ]
  },
  {
   "cell_type": "code",
   "execution_count": 13,
   "id": "276e87e6",
   "metadata": {},
   "outputs": [],
   "source": [
    "data2['difference'] = data2['END'] - data2['BEGIN']"
   ]
  },
  {
   "cell_type": "code",
   "execution_count": 14,
   "id": "d823b757",
   "metadata": {},
   "outputs": [
    {
     "data": {
      "text/html": [
       "<div>\n",
       "<style scoped>\n",
       "    .dataframe tbody tr th:only-of-type {\n",
       "        vertical-align: middle;\n",
       "    }\n",
       "\n",
       "    .dataframe tbody tr th {\n",
       "        vertical-align: top;\n",
       "    }\n",
       "\n",
       "    .dataframe thead th {\n",
       "        text-align: right;\n",
       "    }\n",
       "</style>\n",
       "<table border=\"1\" class=\"dataframe\">\n",
       "  <thead>\n",
       "    <tr style=\"text-align: right;\">\n",
       "      <th></th>\n",
       "      <th>TREND</th>\n",
       "      <th>CHANGE</th>\n",
       "      <th>START</th>\n",
       "      <th>STOP</th>\n",
       "      <th>BEGIN</th>\n",
       "      <th>END</th>\n",
       "      <th>difference</th>\n",
       "    </tr>\n",
       "  </thead>\n",
       "  <tbody>\n",
       "    <tr>\n",
       "      <th>0</th>\n",
       "      <td>SELL</td>\n",
       "      <td>-0.17005</td>\n",
       "      <td>2019.12.31 22:17</td>\n",
       "      <td>2019.12.31 23:25</td>\n",
       "      <td>10291.1</td>\n",
       "      <td>10273.6</td>\n",
       "      <td>-17.5</td>\n",
       "    </tr>\n",
       "    <tr>\n",
       "      <th>1</th>\n",
       "      <td>BUY</td>\n",
       "      <td>0.07203</td>\n",
       "      <td>2019.12.31 23:25</td>\n",
       "      <td>2019.12.31 23:50</td>\n",
       "      <td>10273.6</td>\n",
       "      <td>10281.0</td>\n",
       "      <td>7.4</td>\n",
       "    </tr>\n",
       "    <tr>\n",
       "      <th>2</th>\n",
       "      <td>SELL</td>\n",
       "      <td>-0.07392</td>\n",
       "      <td>2019.12.31 23:50</td>\n",
       "      <td>2020.01.01 00:43</td>\n",
       "      <td>10281.0</td>\n",
       "      <td>10273.4</td>\n",
       "      <td>-7.6</td>\n",
       "    </tr>\n",
       "    <tr>\n",
       "      <th>3</th>\n",
       "      <td>BUY</td>\n",
       "      <td>0.05548</td>\n",
       "      <td>2020.01.01 00:43</td>\n",
       "      <td>2020.01.01 01:01</td>\n",
       "      <td>10273.4</td>\n",
       "      <td>10279.1</td>\n",
       "      <td>5.7</td>\n",
       "    </tr>\n",
       "    <tr>\n",
       "      <th>4</th>\n",
       "      <td>SELL</td>\n",
       "      <td>-0.21792</td>\n",
       "      <td>2020.01.01 01:01</td>\n",
       "      <td>2020.01.01 02:16</td>\n",
       "      <td>10279.1</td>\n",
       "      <td>10256.7</td>\n",
       "      <td>-22.4</td>\n",
       "    </tr>\n",
       "    <tr>\n",
       "      <th>...</th>\n",
       "      <td>...</td>\n",
       "      <td>...</td>\n",
       "      <td>...</td>\n",
       "      <td>...</td>\n",
       "      <td>...</td>\n",
       "      <td>...</td>\n",
       "      <td>...</td>\n",
       "    </tr>\n",
       "    <tr>\n",
       "      <th>38878</th>\n",
       "      <td>SELL</td>\n",
       "      <td>-0.13070</td>\n",
       "      <td>2023.11.07 18:41</td>\n",
       "      <td>2023.11.07 20:27</td>\n",
       "      <td>8569.1</td>\n",
       "      <td>8557.9</td>\n",
       "      <td>-11.2</td>\n",
       "    </tr>\n",
       "    <tr>\n",
       "      <th>38879</th>\n",
       "      <td>BUY</td>\n",
       "      <td>0.12269</td>\n",
       "      <td>2023.11.07 20:27</td>\n",
       "      <td>2023.11.07 21:08</td>\n",
       "      <td>8557.9</td>\n",
       "      <td>8568.4</td>\n",
       "      <td>10.5</td>\n",
       "    </tr>\n",
       "    <tr>\n",
       "      <th>38880</th>\n",
       "      <td>SELL</td>\n",
       "      <td>-0.13772</td>\n",
       "      <td>2023.11.07 21:08</td>\n",
       "      <td>2023.11.07 21:45</td>\n",
       "      <td>8568.4</td>\n",
       "      <td>8556.6</td>\n",
       "      <td>-11.8</td>\n",
       "    </tr>\n",
       "    <tr>\n",
       "      <th>38881</th>\n",
       "      <td>BUY</td>\n",
       "      <td>0.08415</td>\n",
       "      <td>2023.11.07 21:45</td>\n",
       "      <td>2023.11.07 22:03</td>\n",
       "      <td>8556.6</td>\n",
       "      <td>8563.8</td>\n",
       "      <td>7.2</td>\n",
       "    </tr>\n",
       "    <tr>\n",
       "      <th>38882</th>\n",
       "      <td>SELL</td>\n",
       "      <td>-0.15063</td>\n",
       "      <td>2023.11.07 22:03</td>\n",
       "      <td>2023.11.07 23:28</td>\n",
       "      <td>8563.8</td>\n",
       "      <td>8550.9</td>\n",
       "      <td>-12.9</td>\n",
       "    </tr>\n",
       "  </tbody>\n",
       "</table>\n",
       "<p>38883 rows × 7 columns</p>\n",
       "</div>"
      ],
      "text/plain": [
       "      TREND   CHANGE             START              STOP    BEGIN      END  \\\n",
       "0      SELL -0.17005  2019.12.31 22:17  2019.12.31 23:25  10291.1  10273.6   \n",
       "1       BUY  0.07203  2019.12.31 23:25  2019.12.31 23:50  10273.6  10281.0   \n",
       "2      SELL -0.07392  2019.12.31 23:50  2020.01.01 00:43  10281.0  10273.4   \n",
       "3       BUY  0.05548  2020.01.01 00:43  2020.01.01 01:01  10273.4  10279.1   \n",
       "4      SELL -0.21792  2020.01.01 01:01  2020.01.01 02:16  10279.1  10256.7   \n",
       "...     ...      ...               ...               ...      ...      ...   \n",
       "38878  SELL -0.13070  2023.11.07 18:41  2023.11.07 20:27   8569.1   8557.9   \n",
       "38879   BUY  0.12269  2023.11.07 20:27  2023.11.07 21:08   8557.9   8568.4   \n",
       "38880  SELL -0.13772  2023.11.07 21:08  2023.11.07 21:45   8568.4   8556.6   \n",
       "38881   BUY  0.08415  2023.11.07 21:45  2023.11.07 22:03   8556.6   8563.8   \n",
       "38882  SELL -0.15063  2023.11.07 22:03  2023.11.07 23:28   8563.8   8550.9   \n",
       "\n",
       "       difference  \n",
       "0           -17.5  \n",
       "1             7.4  \n",
       "2            -7.6  \n",
       "3             5.7  \n",
       "4           -22.4  \n",
       "...           ...  \n",
       "38878       -11.2  \n",
       "38879        10.5  \n",
       "38880       -11.8  \n",
       "38881         7.2  \n",
       "38882       -12.9  \n",
       "\n",
       "[38883 rows x 7 columns]"
      ]
     },
     "execution_count": 14,
     "metadata": {},
     "output_type": "execute_result"
    }
   ],
   "source": [
    "data2"
   ]
  },
  {
   "cell_type": "markdown",
   "id": "e821aef5",
   "metadata": {},
   "source": [
    "### Sell vs Buy"
   ]
  },
  {
   "cell_type": "code",
   "execution_count": 15,
   "id": "a9823799",
   "metadata": {},
   "outputs": [
    {
     "data": {
      "text/plain": [
       "Index(['TREND', 'CHANGE', 'START', 'STOP', 'BEGIN', 'END', 'difference'], dtype='object')"
      ]
     },
     "execution_count": 15,
     "metadata": {},
     "output_type": "execute_result"
    }
   ],
   "source": [
    "data2.columns"
   ]
  },
  {
   "cell_type": "code",
   "execution_count": 16,
   "id": "14bfc69d",
   "metadata": {},
   "outputs": [],
   "source": [
    "trend_counts = data2['TREND'].value_counts()"
   ]
  },
  {
   "cell_type": "code",
   "execution_count": 17,
   "id": "bc1ea640",
   "metadata": {},
   "outputs": [
    {
     "data": {
      "image/png": "[encoded data removed]",
      "text/plain": [
       "<Figure size 800x800 with 1 Axes>"
      ]
     },
     "metadata": {},
     "output_type": "display_data"
    }
   ],
   "source": [
    "plt.figure(figsize=(8,8))\n",
    "sns.set(style = \"whitegrid\")\n",
    "plt.pie(trend_counts, labels=trend_counts.index, autopct='%1.1f%%',startangle=90, colors=sns.color_palette(\"pastel\"))\n",
    "plt.title('Percentage of Sells and Buys')\n",
    "plt.show()"
   ]
  },
  {
   "cell_type": "code",
   "execution_count": 18,
   "id": "babd4525",
   "metadata": {},
   "outputs": [
    {
     "data": {
      "text/plain": [
       "TREND\n",
       "SELL    19442\n",
       "BUY     19441\n",
       "Name: count, dtype: int64"
      ]
     },
     "execution_count": 18,
     "metadata": {},
     "output_type": "execute_result"
    }
   ],
   "source": [
    "data2['TREND'].value_counts()"
   ]
  },
  {
   "cell_type": "markdown",
   "id": "bc361361",
   "metadata": {},
   "source": [
    "### Splitting the Dates Columns"
   ]
  },
  {
   "cell_type": "code",
   "execution_count": 19,
   "id": "1cb0fb99",
   "metadata": {},
   "outputs": [
    {
     "data": {
      "text/plain": [
       "Index(['TREND', 'CHANGE', 'START', 'STOP', 'BEGIN', 'END', 'difference'], dtype='object')"
      ]
     },
     "execution_count": 19,
     "metadata": {},
     "output_type": "execute_result"
    }
   ],
   "source": [
    "data2.columns"
   ]
  },
  {
   "cell_type": "code",
   "execution_count": 20,
   "id": "304889bb",
   "metadata": {},
   "outputs": [],
   "source": [
    "data2['START'] = pd.to_datetime(data2['START'])"
   ]
  },
  {
   "cell_type": "code",
   "execution_count": 21,
   "id": "e0991e8f",
   "metadata": {},
   "outputs": [
    {
     "name": "stdout",
     "output_type": "stream",
     "text": [
      "<class 'pandas.core.frame.DataFrame'>\n",
      "RangeIndex: 38883 entries, 0 to 38882\n",
      "Data columns (total 7 columns):\n",
      " #   Column      Non-Null Count  Dtype         \n",
      "---  ------      --------------  -----         \n",
      " 0   TREND       38883 non-null  object        \n",
      " 1   CHANGE      38883 non-null  float64       \n",
      " 2   START       38883 non-null  datetime64[ns]\n",
      " 3   STOP        38883 non-null  object        \n",
      " 4   BEGIN       38883 non-null  float64       \n",
      " 5   END         38883 non-null  float64       \n",
      " 6   difference  38883 non-null  float64       \n",
      "dtypes: datetime64[ns](1), float64(4), object(2)\n",
      "memory usage: 2.1+ MB\n"
     ]
    }
   ],
   "source": [
    "data2.info()"
   ]
  },
  {
   "cell_type": "code",
   "execution_count": 22,
   "id": "5b8f8330",
   "metadata": {},
   "outputs": [],
   "source": [
    "data2['start_month'] = data2['START'].dt.month\n",
    "data2['start_year'] = data2['START'].dt.year\n",
    "data2['start_day_of_week'] = data2['START'].dt.dayofweek"
   ]
  },
  {
   "cell_type": "code",
   "execution_count": 23,
   "id": "b18d7a2b",
   "metadata": {},
   "outputs": [
    {
     "data": {
      "text/html": [
       "<div>\n",
       "<style scoped>\n",
       "    .dataframe tbody tr th:only-of-type {\n",
       "        vertical-align: middle;\n",
       "    }\n",
       "\n",
       "    .dataframe tbody tr th {\n",
       "        vertical-align: top;\n",
       "    }\n",
       "\n",
       "    .dataframe thead th {\n",
       "        text-align: right;\n",
       "    }\n",
       "</style>\n",
       "<table border=\"1\" class=\"dataframe\">\n",
       "  <thead>\n",
       "    <tr style=\"text-align: right;\">\n",
       "      <th></th>\n",
       "      <th>TREND</th>\n",
       "      <th>CHANGE</th>\n",
       "      <th>START</th>\n",
       "      <th>STOP</th>\n",
       "      <th>BEGIN</th>\n",
       "      <th>END</th>\n",
       "      <th>difference</th>\n",
       "      <th>start_month</th>\n",
       "      <th>start_year</th>\n",
       "      <th>start_day_of_week</th>\n",
       "    </tr>\n",
       "  </thead>\n",
       "  <tbody>\n",
       "    <tr>\n",
       "      <th>0</th>\n",
       "      <td>SELL</td>\n",
       "      <td>-0.17005</td>\n",
       "      <td>2019-12-31 22:17:00</td>\n",
       "      <td>2019.12.31 23:25</td>\n",
       "      <td>10291.1</td>\n",
       "      <td>10273.6</td>\n",
       "      <td>-17.5</td>\n",
       "      <td>12</td>\n",
       "      <td>2019</td>\n",
       "      <td>1</td>\n",
       "    </tr>\n",
       "    <tr>\n",
       "      <th>1</th>\n",
       "      <td>BUY</td>\n",
       "      <td>0.07203</td>\n",
       "      <td>2019-12-31 23:25:00</td>\n",
       "      <td>2019.12.31 23:50</td>\n",
       "      <td>10273.6</td>\n",
       "      <td>10281.0</td>\n",
       "      <td>7.4</td>\n",
       "      <td>12</td>\n",
       "      <td>2019</td>\n",
       "      <td>1</td>\n",
       "    </tr>\n",
       "    <tr>\n",
       "      <th>2</th>\n",
       "      <td>SELL</td>\n",
       "      <td>-0.07392</td>\n",
       "      <td>2019-12-31 23:50:00</td>\n",
       "      <td>2020.01.01 00:43</td>\n",
       "      <td>10281.0</td>\n",
       "      <td>10273.4</td>\n",
       "      <td>-7.6</td>\n",
       "      <td>12</td>\n",
       "      <td>2019</td>\n",
       "      <td>1</td>\n",
       "    </tr>\n",
       "    <tr>\n",
       "      <th>3</th>\n",
       "      <td>BUY</td>\n",
       "      <td>0.05548</td>\n",
       "      <td>2020-01-01 00:43:00</td>\n",
       "      <td>2020.01.01 01:01</td>\n",
       "      <td>10273.4</td>\n",
       "      <td>10279.1</td>\n",
       "      <td>5.7</td>\n",
       "      <td>1</td>\n",
       "      <td>2020</td>\n",
       "      <td>2</td>\n",
       "    </tr>\n",
       "    <tr>\n",
       "      <th>4</th>\n",
       "      <td>SELL</td>\n",
       "      <td>-0.21792</td>\n",
       "      <td>2020-01-01 01:01:00</td>\n",
       "      <td>2020.01.01 02:16</td>\n",
       "      <td>10279.1</td>\n",
       "      <td>10256.7</td>\n",
       "      <td>-22.4</td>\n",
       "      <td>1</td>\n",
       "      <td>2020</td>\n",
       "      <td>2</td>\n",
       "    </tr>\n",
       "    <tr>\n",
       "      <th>...</th>\n",
       "      <td>...</td>\n",
       "      <td>...</td>\n",
       "      <td>...</td>\n",
       "      <td>...</td>\n",
       "      <td>...</td>\n",
       "      <td>...</td>\n",
       "      <td>...</td>\n",
       "      <td>...</td>\n",
       "      <td>...</td>\n",
       "      <td>...</td>\n",
       "    </tr>\n",
       "    <tr>\n",
       "      <th>38878</th>\n",
       "      <td>SELL</td>\n",
       "      <td>-0.13070</td>\n",
       "      <td>2023-11-07 18:41:00</td>\n",
       "      <td>2023.11.07 20:27</td>\n",
       "      <td>8569.1</td>\n",
       "      <td>8557.9</td>\n",
       "      <td>-11.2</td>\n",
       "      <td>11</td>\n",
       "      <td>2023</td>\n",
       "      <td>1</td>\n",
       "    </tr>\n",
       "    <tr>\n",
       "      <th>38879</th>\n",
       "      <td>BUY</td>\n",
       "      <td>0.12269</td>\n",
       "      <td>2023-11-07 20:27:00</td>\n",
       "      <td>2023.11.07 21:08</td>\n",
       "      <td>8557.9</td>\n",
       "      <td>8568.4</td>\n",
       "      <td>10.5</td>\n",
       "      <td>11</td>\n",
       "      <td>2023</td>\n",
       "      <td>1</td>\n",
       "    </tr>\n",
       "    <tr>\n",
       "      <th>38880</th>\n",
       "      <td>SELL</td>\n",
       "      <td>-0.13772</td>\n",
       "      <td>2023-11-07 21:08:00</td>\n",
       "      <td>2023.11.07 21:45</td>\n",
       "      <td>8568.4</td>\n",
       "      <td>8556.6</td>\n",
       "      <td>-11.8</td>\n",
       "      <td>11</td>\n",
       "      <td>2023</td>\n",
       "      <td>1</td>\n",
       "    </tr>\n",
       "    <tr>\n",
       "      <th>38881</th>\n",
       "      <td>BUY</td>\n",
       "      <td>0.08415</td>\n",
       "      <td>2023-11-07 21:45:00</td>\n",
       "      <td>2023.11.07 22:03</td>\n",
       "      <td>8556.6</td>\n",
       "      <td>8563.8</td>\n",
       "      <td>7.2</td>\n",
       "      <td>11</td>\n",
       "      <td>2023</td>\n",
       "      <td>1</td>\n",
       "    </tr>\n",
       "    <tr>\n",
       "      <th>38882</th>\n",
       "      <td>SELL</td>\n",
       "      <td>-0.15063</td>\n",
       "      <td>2023-11-07 22:03:00</td>\n",
       "      <td>2023.11.07 23:28</td>\n",
       "      <td>8563.8</td>\n",
       "      <td>8550.9</td>\n",
       "      <td>-12.9</td>\n",
       "      <td>11</td>\n",
       "      <td>2023</td>\n",
       "      <td>1</td>\n",
       "    </tr>\n",
       "  </tbody>\n",
       "</table>\n",
       "<p>38883 rows × 10 columns</p>\n",
       "</div>"
      ],
      "text/plain": [
       "      TREND   CHANGE               START              STOP    BEGIN      END  \\\n",
       "0      SELL -0.17005 2019-12-31 22:17:00  2019.12.31 23:25  10291.1  10273.6   \n",
       "1       BUY  0.07203 2019-12-31 23:25:00  2019.12.31 23:50  10273.6  10281.0   \n",
       "2      SELL -0.07392 2019-12-31 23:50:00  2020.01.01 00:43  10281.0  10273.4   \n",
       "3       BUY  0.05548 2020-01-01 00:43:00  2020.01.01 01:01  10273.4  10279.1   \n",
       "4      SELL -0.21792 2020-01-01 01:01:00  2020.01.01 02:16  10279.1  10256.7   \n",
       "...     ...      ...                 ...               ...      ...      ...   \n",
       "38878  SELL -0.13070 2023-11-07 18:41:00  2023.11.07 20:27   8569.1   8557.9   \n",
       "38879   BUY  0.12269 2023-11-07 20:27:00  2023.11.07 21:08   8557.9   8568.4   \n",
       "38880  SELL -0.13772 2023-11-07 21:08:00  2023.11.07 21:45   8568.4   8556.6   \n",
       "38881   BUY  0.08415 2023-11-07 21:45:00  2023.11.07 22:03   8556.6   8563.8   \n",
       "38882  SELL -0.15063 2023-11-07 22:03:00  2023.11.07 23:28   8563.8   8550.9   \n",
       "\n",
       "       difference  start_month  start_year  start_day_of_week  \n",
       "0           -17.5           12        2019                  1  \n",
       "1             7.4           12        2019                  1  \n",
       "2            -7.6           12        2019                  1  \n",
       "3             5.7            1        2020                  2  \n",
       "4           -22.4            1        2020                  2  \n",
       "...           ...          ...         ...                ...  \n",
       "38878       -11.2           11        2023                  1  \n",
       "38879        10.5           11        2023                  1  \n",
       "38880       -11.8           11        2023                  1  \n",
       "38881         7.2           11        2023                  1  \n",
       "38882       -12.9           11        2023                  1  \n",
       "\n",
       "[38883 rows x 10 columns]"
      ]
     },
     "execution_count": 23,
     "metadata": {},
     "output_type": "execute_result"
    }
   ],
   "source": [
    "data2"
   ]
  },
  {
   "cell_type": "code",
   "execution_count": 24,
   "id": "4c06b832",
   "metadata": {},
   "outputs": [],
   "source": [
    "data2['STOP'] = pd.to_datetime(data2['STOP'])"
   ]
  },
  {
   "cell_type": "code",
   "execution_count": 25,
   "id": "79a3fe4e",
   "metadata": {},
   "outputs": [],
   "source": [
    "data2['end_month'] = data2['STOP'].dt.month\n",
    "data2['end_year'] = data2['STOP'].dt.year\n",
    "data2['end_day_of_week'] = data2['STOP'].dt.dayofweek"
   ]
  },
  {
   "cell_type": "code",
   "execution_count": 26,
   "id": "1a5fac7a",
   "metadata": {},
   "outputs": [
    {
     "data": {
      "text/plain": [
       "Index(['TREND', 'CHANGE', 'START', 'STOP', 'BEGIN', 'END', 'difference',\n",
       "       'start_month', 'start_year', 'start_day_of_week', 'end_month',\n",
       "       'end_year', 'end_day_of_week'],\n",
       "      dtype='object')"
      ]
     },
     "execution_count": 26,
     "metadata": {},
     "output_type": "execute_result"
    }
   ],
   "source": [
    "data2.columns"
   ]
  },
  {
   "cell_type": "code",
   "execution_count": 27,
   "id": "0c5f2351",
   "metadata": {},
   "outputs": [
    {
     "data": {
      "text/html": [
       "<div>\n",
       "<style scoped>\n",
       "    .dataframe tbody tr th:only-of-type {\n",
       "        vertical-align: middle;\n",
       "    }\n",
       "\n",
       "    .dataframe tbody tr th {\n",
       "        vertical-align: top;\n",
       "    }\n",
       "\n",
       "    .dataframe thead th {\n",
       "        text-align: right;\n",
       "    }\n",
       "</style>\n",
       "<table border=\"1\" class=\"dataframe\">\n",
       "  <thead>\n",
       "    <tr style=\"text-align: right;\">\n",
       "      <th></th>\n",
       "      <th>TREND</th>\n",
       "      <th>CHANGE</th>\n",
       "      <th>START</th>\n",
       "      <th>STOP</th>\n",
       "      <th>BEGIN</th>\n",
       "      <th>END</th>\n",
       "      <th>difference</th>\n",
       "      <th>start_month</th>\n",
       "      <th>start_year</th>\n",
       "      <th>start_day_of_week</th>\n",
       "      <th>end_month</th>\n",
       "      <th>end_year</th>\n",
       "      <th>end_day_of_week</th>\n",
       "    </tr>\n",
       "  </thead>\n",
       "  <tbody>\n",
       "    <tr>\n",
       "      <th>0</th>\n",
       "      <td>SELL</td>\n",
       "      <td>-0.17005</td>\n",
       "      <td>2019-12-31 22:17:00</td>\n",
       "      <td>2019-12-31 23:25:00</td>\n",
       "      <td>10291.1</td>\n",
       "      <td>10273.6</td>\n",
       "      <td>-17.5</td>\n",
       "      <td>12</td>\n",
       "      <td>2019</td>\n",
       "      <td>1</td>\n",
       "      <td>12</td>\n",
       "      <td>2019</td>\n",
       "      <td>1</td>\n",
       "    </tr>\n",
       "    <tr>\n",
       "      <th>1</th>\n",
       "      <td>BUY</td>\n",
       "      <td>0.07203</td>\n",
       "      <td>2019-12-31 23:25:00</td>\n",
       "      <td>2019-12-31 23:50:00</td>\n",
       "      <td>10273.6</td>\n",
       "      <td>10281.0</td>\n",
       "      <td>7.4</td>\n",
       "      <td>12</td>\n",
       "      <td>2019</td>\n",
       "      <td>1</td>\n",
       "      <td>12</td>\n",
       "      <td>2019</td>\n",
       "      <td>1</td>\n",
       "    </tr>\n",
       "    <tr>\n",
       "      <th>2</th>\n",
       "      <td>SELL</td>\n",
       "      <td>-0.07392</td>\n",
       "      <td>2019-12-31 23:50:00</td>\n",
       "      <td>2020-01-01 00:43:00</td>\n",
       "      <td>10281.0</td>\n",
       "      <td>10273.4</td>\n",
       "      <td>-7.6</td>\n",
       "      <td>12</td>\n",
       "      <td>2019</td>\n",
       "      <td>1</td>\n",
       "      <td>1</td>\n",
       "      <td>2020</td>\n",
       "      <td>2</td>\n",
       "    </tr>\n",
       "    <tr>\n",
       "      <th>3</th>\n",
       "      <td>BUY</td>\n",
       "      <td>0.05548</td>\n",
       "      <td>2020-01-01 00:43:00</td>\n",
       "      <td>2020-01-01 01:01:00</td>\n",
       "      <td>10273.4</td>\n",
       "      <td>10279.1</td>\n",
       "      <td>5.7</td>\n",
       "      <td>1</td>\n",
       "      <td>2020</td>\n",
       "      <td>2</td>\n",
       "      <td>1</td>\n",
       "      <td>2020</td>\n",
       "      <td>2</td>\n",
       "    </tr>\n",
       "    <tr>\n",
       "      <th>4</th>\n",
       "      <td>SELL</td>\n",
       "      <td>-0.21792</td>\n",
       "      <td>2020-01-01 01:01:00</td>\n",
       "      <td>2020-01-01 02:16:00</td>\n",
       "      <td>10279.1</td>\n",
       "      <td>10256.7</td>\n",
       "      <td>-22.4</td>\n",
       "      <td>1</td>\n",
       "      <td>2020</td>\n",
       "      <td>2</td>\n",
       "      <td>1</td>\n",
       "      <td>2020</td>\n",
       "      <td>2</td>\n",
       "    </tr>\n",
       "  </tbody>\n",
       "</table>\n",
       "</div>"
      ],
      "text/plain": [
       "  TREND   CHANGE               START                STOP    BEGIN      END  \\\n",
       "0  SELL -0.17005 2019-12-31 22:17:00 2019-12-31 23:25:00  10291.1  10273.6   \n",
       "1   BUY  0.07203 2019-12-31 23:25:00 2019-12-31 23:50:00  10273.6  10281.0   \n",
       "2  SELL -0.07392 2019-12-31 23:50:00 2020-01-01 00:43:00  10281.0  10273.4   \n",
       "3   BUY  0.05548 2020-01-01 00:43:00 2020-01-01 01:01:00  10273.4  10279.1   \n",
       "4  SELL -0.21792 2020-01-01 01:01:00 2020-01-01 02:16:00  10279.1  10256.7   \n",
       "\n",
       "   difference  start_month  start_year  start_day_of_week  end_month  \\\n",
       "0       -17.5           12        2019                  1         12   \n",
       "1         7.4           12        2019                  1         12   \n",
       "2        -7.6           12        2019                  1          1   \n",
       "3         5.7            1        2020                  2          1   \n",
       "4       -22.4            1        2020                  2          1   \n",
       "\n",
       "   end_year  end_day_of_week  \n",
       "0      2019                1  \n",
       "1      2019                1  \n",
       "2      2020                2  \n",
       "3      2020                2  \n",
       "4      2020                2  "
      ]
     },
     "execution_count": 27,
     "metadata": {},
     "output_type": "execute_result"
    }
   ],
   "source": [
    "data2.head()"
   ]
  },
  {
   "cell_type": "code",
   "execution_count": 31,
   "id": "a66375b2",
   "metadata": {},
   "outputs": [
    {
     "data": {
      "text/html": [
       "<div>\n",
       "<style scoped>\n",
       "    .dataframe tbody tr th:only-of-type {\n",
       "        vertical-align: middle;\n",
       "    }\n",
       "\n",
       "    .dataframe tbody tr th {\n",
       "        vertical-align: top;\n",
       "    }\n",
       "\n",
       "    .dataframe thead th {\n",
       "        text-align: right;\n",
       "    }\n",
       "</style>\n",
       "<table border=\"1\" class=\"dataframe\">\n",
       "  <thead>\n",
       "    <tr style=\"text-align: right;\">\n",
       "      <th></th>\n",
       "      <th>TREND</th>\n",
       "      <th>CHANGE</th>\n",
       "      <th>START</th>\n",
       "      <th>STOP</th>\n",
       "      <th>BEGIN</th>\n",
       "      <th>END</th>\n",
       "      <th>difference</th>\n",
       "      <th>start_month</th>\n",
       "      <th>start_year</th>\n",
       "      <th>start_day_of_week</th>\n",
       "      <th>end_month</th>\n",
       "      <th>end_year</th>\n",
       "      <th>end_day_of_week</th>\n",
       "    </tr>\n",
       "  </thead>\n",
       "  <tbody>\n",
       "    <tr>\n",
       "      <th>0</th>\n",
       "      <td>SELL</td>\n",
       "      <td>-0.17005</td>\n",
       "      <td>2019-12-31 22:17:00</td>\n",
       "      <td>2019-12-31 23:25:00</td>\n",
       "      <td>10291.1</td>\n",
       "      <td>10273.6</td>\n",
       "      <td>-17.5</td>\n",
       "      <td>12</td>\n",
       "      <td>2019</td>\n",
       "      <td>1</td>\n",
       "      <td>12</td>\n",
       "      <td>2019</td>\n",
       "      <td>1</td>\n",
       "    </tr>\n",
       "    <tr>\n",
       "      <th>1</th>\n",
       "      <td>BUY</td>\n",
       "      <td>0.07203</td>\n",
       "      <td>2019-12-31 23:25:00</td>\n",
       "      <td>2019-12-31 23:50:00</td>\n",
       "      <td>10273.6</td>\n",
       "      <td>10281.0</td>\n",
       "      <td>7.4</td>\n",
       "      <td>12</td>\n",
       "      <td>2019</td>\n",
       "      <td>1</td>\n",
       "      <td>12</td>\n",
       "      <td>2019</td>\n",
       "      <td>1</td>\n",
       "    </tr>\n",
       "    <tr>\n",
       "      <th>2</th>\n",
       "      <td>SELL</td>\n",
       "      <td>-0.07392</td>\n",
       "      <td>2019-12-31 23:50:00</td>\n",
       "      <td>2020-01-01 00:43:00</td>\n",
       "      <td>10281.0</td>\n",
       "      <td>10273.4</td>\n",
       "      <td>-7.6</td>\n",
       "      <td>12</td>\n",
       "      <td>2019</td>\n",
       "      <td>1</td>\n",
       "      <td>1</td>\n",
       "      <td>2020</td>\n",
       "      <td>2</td>\n",
       "    </tr>\n",
       "    <tr>\n",
       "      <th>3</th>\n",
       "      <td>BUY</td>\n",
       "      <td>0.05548</td>\n",
       "      <td>2020-01-01 00:43:00</td>\n",
       "      <td>2020-01-01 01:01:00</td>\n",
       "      <td>10273.4</td>\n",
       "      <td>10279.1</td>\n",
       "      <td>5.7</td>\n",
       "      <td>1</td>\n",
       "      <td>2020</td>\n",
       "      <td>2</td>\n",
       "      <td>1</td>\n",
       "      <td>2020</td>\n",
       "      <td>2</td>\n",
       "    </tr>\n",
       "    <tr>\n",
       "      <th>4</th>\n",
       "      <td>SELL</td>\n",
       "      <td>-0.21792</td>\n",
       "      <td>2020-01-01 01:01:00</td>\n",
       "      <td>2020-01-01 02:16:00</td>\n",
       "      <td>10279.1</td>\n",
       "      <td>10256.7</td>\n",
       "      <td>-22.4</td>\n",
       "      <td>1</td>\n",
       "      <td>2020</td>\n",
       "      <td>2</td>\n",
       "      <td>1</td>\n",
       "      <td>2020</td>\n",
       "      <td>2</td>\n",
       "    </tr>\n",
       "  </tbody>\n",
       "</table>\n",
       "</div>"
      ],
      "text/plain": [
       "  TREND   CHANGE               START                STOP    BEGIN      END  \\\n",
       "0  SELL -0.17005 2019-12-31 22:17:00 2019-12-31 23:25:00  10291.1  10273.6   \n",
       "1   BUY  0.07203 2019-12-31 23:25:00 2019-12-31 23:50:00  10273.6  10281.0   \n",
       "2  SELL -0.07392 2019-12-31 23:50:00 2020-01-01 00:43:00  10281.0  10273.4   \n",
       "3   BUY  0.05548 2020-01-01 00:43:00 2020-01-01 01:01:00  10273.4  10279.1   \n",
       "4  SELL -0.21792 2020-01-01 01:01:00 2020-01-01 02:16:00  10279.1  10256.7   \n",
       "\n",
       "   difference  start_month  start_year  start_day_of_week  end_month  \\\n",
       "0       -17.5           12        2019                  1         12   \n",
       "1         7.4           12        2019                  1         12   \n",
       "2        -7.6           12        2019                  1          1   \n",
       "3         5.7            1        2020                  2          1   \n",
       "4       -22.4            1        2020                  2          1   \n",
       "\n",
       "   end_year  end_day_of_week  \n",
       "0      2019                1  \n",
       "1      2019                1  \n",
       "2      2020                2  \n",
       "3      2020                2  \n",
       "4      2020                2  "
      ]
     },
     "execution_count": 31,
     "metadata": {},
     "output_type": "execute_result"
    }
   ],
   "source": [
    "data2.head()"
   ]
  },
  {
   "cell_type": "markdown",
   "id": "3777d610",
   "metadata": {},
   "source": [
    "### Adjusting to get the names of the days of the week"
   ]
  },
  {
   "cell_type": "code",
   "execution_count": 33,
   "id": "7d311222",
   "metadata": {},
   "outputs": [],
   "source": [
    "data2['start_day_name'] = data2['START'].dt.day_name()"
   ]
  },
  {
   "cell_type": "code",
   "execution_count": 35,
   "id": "b10d4c79",
   "metadata": {},
   "outputs": [],
   "source": [
    "data2['stop_day_name'] = data2['STOP'].dt.day_name()"
   ]
  },
  {
   "cell_type": "code",
   "execution_count": 37,
   "id": "990a4446",
   "metadata": {},
   "outputs": [
    {
     "data": {
      "text/html": [
       "<div>\n",
       "<style scoped>\n",
       "    .dataframe tbody tr th:only-of-type {\n",
       "        vertical-align: middle;\n",
       "    }\n",
       "\n",
       "    .dataframe tbody tr th {\n",
       "        vertical-align: top;\n",
       "    }\n",
       "\n",
       "    .dataframe thead th {\n",
       "        text-align: right;\n",
       "    }\n",
       "</style>\n",
       "<table border=\"1\" class=\"dataframe\">\n",
       "  <thead>\n",
       "    <tr style=\"text-align: right;\">\n",
       "      <th></th>\n",
       "      <th>TREND</th>\n",
       "      <th>CHANGE</th>\n",
       "      <th>START</th>\n",
       "      <th>STOP</th>\n",
       "      <th>BEGIN</th>\n",
       "      <th>END</th>\n",
       "      <th>difference</th>\n",
       "      <th>start_month</th>\n",
       "      <th>start_year</th>\n",
       "      <th>start_day_of_week</th>\n",
       "      <th>end_month</th>\n",
       "      <th>end_year</th>\n",
       "      <th>end_day_of_week</th>\n",
       "      <th>start_day_name</th>\n",
       "      <th>stop_day_name</th>\n",
       "    </tr>\n",
       "  </thead>\n",
       "  <tbody>\n",
       "    <tr>\n",
       "      <th>0</th>\n",
       "      <td>SELL</td>\n",
       "      <td>-0.17005</td>\n",
       "      <td>2019-12-31 22:17:00</td>\n",
       "      <td>2019-12-31 23:25:00</td>\n",
       "      <td>10291.1</td>\n",
       "      <td>10273.6</td>\n",
       "      <td>-17.5</td>\n",
       "      <td>12</td>\n",
       "      <td>2019</td>\n",
       "      <td>1</td>\n",
       "      <td>12</td>\n",
       "      <td>2019</td>\n",
       "      <td>1</td>\n",
       "      <td>Tuesday</td>\n",
       "      <td>Tuesday</td>\n",
       "    </tr>\n",
       "    <tr>\n",
       "      <th>1</th>\n",
       "      <td>BUY</td>\n",
       "      <td>0.07203</td>\n",
       "      <td>2019-12-31 23:25:00</td>\n",
       "      <td>2019-12-31 23:50:00</td>\n",
       "      <td>10273.6</td>\n",
       "      <td>10281.0</td>\n",
       "      <td>7.4</td>\n",
       "      <td>12</td>\n",
       "      <td>2019</td>\n",
       "      <td>1</td>\n",
       "      <td>12</td>\n",
       "      <td>2019</td>\n",
       "      <td>1</td>\n",
       "      <td>Tuesday</td>\n",
       "      <td>Tuesday</td>\n",
       "    </tr>\n",
       "    <tr>\n",
       "      <th>2</th>\n",
       "      <td>SELL</td>\n",
       "      <td>-0.07392</td>\n",
       "      <td>2019-12-31 23:50:00</td>\n",
       "      <td>2020-01-01 00:43:00</td>\n",
       "      <td>10281.0</td>\n",
       "      <td>10273.4</td>\n",
       "      <td>-7.6</td>\n",
       "      <td>12</td>\n",
       "      <td>2019</td>\n",
       "      <td>1</td>\n",
       "      <td>1</td>\n",
       "      <td>2020</td>\n",
       "      <td>2</td>\n",
       "      <td>Tuesday</td>\n",
       "      <td>Wednesday</td>\n",
       "    </tr>\n",
       "  </tbody>\n",
       "</table>\n",
       "</div>"
      ],
      "text/plain": [
       "  TREND   CHANGE               START                STOP    BEGIN      END  \\\n",
       "0  SELL -0.17005 2019-12-31 22:17:00 2019-12-31 23:25:00  10291.1  10273.6   \n",
       "1   BUY  0.07203 2019-12-31 23:25:00 2019-12-31 23:50:00  10273.6  10281.0   \n",
       "2  SELL -0.07392 2019-12-31 23:50:00 2020-01-01 00:43:00  10281.0  10273.4   \n",
       "\n",
       "   difference  start_month  start_year  start_day_of_week  end_month  \\\n",
       "0       -17.5           12        2019                  1         12   \n",
       "1         7.4           12        2019                  1         12   \n",
       "2        -7.6           12        2019                  1          1   \n",
       "\n",
       "   end_year  end_day_of_week start_day_name stop_day_name  \n",
       "0      2019                1        Tuesday       Tuesday  \n",
       "1      2019                1        Tuesday       Tuesday  \n",
       "2      2020                2        Tuesday     Wednesday  "
      ]
     },
     "execution_count": 37,
     "metadata": {},
     "output_type": "execute_result"
    }
   ],
   "source": [
    "data2.head(3)"
   ]
  },
  {
   "cell_type": "code",
   "execution_count": 38,
   "id": "e7a4dae5",
   "metadata": {},
   "outputs": [
    {
     "data": {
      "text/plain": [
       "Index(['TREND', 'CHANGE', 'START', 'STOP', 'BEGIN', 'END', 'difference',\n",
       "       'start_month', 'start_year', 'start_day_of_week', 'end_month',\n",
       "       'end_year', 'end_day_of_week', 'start_day_name', 'stop_day_name'],\n",
       "      dtype='object')"
      ]
     },
     "execution_count": 38,
     "metadata": {},
     "output_type": "execute_result"
    }
   ],
   "source": [
    "data2.columns"
   ]
  },
  {
   "cell_type": "markdown",
   "id": "7fcbae6d",
   "metadata": {},
   "source": [
    "## Volatility Checks"
   ]
  },
  {
   "cell_type": "code",
   "execution_count": 39,
   "id": "e98e6d8d",
   "metadata": {},
   "outputs": [
    {
     "data": {
      "text/plain": [
       "Index(['TREND', 'CHANGE', 'START', 'STOP', 'BEGIN', 'END', 'difference',\n",
       "       'start_month', 'start_year', 'start_day_of_week', 'end_month',\n",
       "       'end_year', 'end_day_of_week', 'start_day_name', 'stop_day_name'],\n",
       "      dtype='object')"
      ]
     },
     "execution_count": 39,
     "metadata": {},
     "output_type": "execute_result"
    }
   ],
   "source": [
    "data2.columns"
   ]
  },
  {
   "cell_type": "code",
   "execution_count": 42,
   "id": "73d6c2df",
   "metadata": {},
   "outputs": [
    {
     "data": {
      "text/plain": [
       "start_year\n",
       "2022    10145\n",
       "2020    10064\n",
       "2021    10038\n",
       "2023     8633\n",
       "2019        3\n",
       "Name: count, dtype: int64"
      ]
     },
     "execution_count": 42,
     "metadata": {},
     "output_type": "execute_result"
    }
   ],
   "source": [
    "data2['start_year'].value_counts()"
   ]
  },
  {
   "cell_type": "code",
   "execution_count": null,
   "id": "923ecece",
   "metadata": {},
   "outputs": [],
   "source": [
    "data2.groupby('start_year')"
   ]
  },
  {
   "cell_type": "code",
   "execution_count": 46,
   "id": "92b4b457",
   "metadata": {},
   "outputs": [],
   "source": [
    "grouped_data = data2.groupby(['start_year', 'TREND'])['CHANGE'].sum().reset_index()"
   ]
  },
  {
   "cell_type": "code",
   "execution_count": 47,
   "id": "86a8ab25",
   "metadata": {},
   "outputs": [
    {
     "data": {
      "text/html": [
       "<div>\n",
       "<style scoped>\n",
       "    .dataframe tbody tr th:only-of-type {\n",
       "        vertical-align: middle;\n",
       "    }\n",
       "\n",
       "    .dataframe tbody tr th {\n",
       "        vertical-align: top;\n",
       "    }\n",
       "\n",
       "    .dataframe thead th {\n",
       "        text-align: right;\n",
       "    }\n",
       "</style>\n",
       "<table border=\"1\" class=\"dataframe\">\n",
       "  <thead>\n",
       "    <tr style=\"text-align: right;\">\n",
       "      <th></th>\n",
       "      <th>start_year</th>\n",
       "      <th>TREND</th>\n",
       "      <th>CHANGE</th>\n",
       "    </tr>\n",
       "  </thead>\n",
       "  <tbody>\n",
       "    <tr>\n",
       "      <th>0</th>\n",
       "      <td>2019</td>\n",
       "      <td>BUY</td>\n",
       "      <td>0.07203</td>\n",
       "    </tr>\n",
       "    <tr>\n",
       "      <th>1</th>\n",
       "      <td>2019</td>\n",
       "      <td>SELL</td>\n",
       "      <td>-0.24397</td>\n",
       "    </tr>\n",
       "    <tr>\n",
       "      <th>2</th>\n",
       "      <td>2020</td>\n",
       "      <td>BUY</td>\n",
       "      <td>549.32181</td>\n",
       "    </tr>\n",
       "    <tr>\n",
       "      <th>3</th>\n",
       "      <td>2020</td>\n",
       "      <td>SELL</td>\n",
       "      <td>-553.68158</td>\n",
       "    </tr>\n",
       "    <tr>\n",
       "      <th>4</th>\n",
       "      <td>2021</td>\n",
       "      <td>BUY</td>\n",
       "      <td>578.24415</td>\n",
       "    </tr>\n",
       "    <tr>\n",
       "      <th>5</th>\n",
       "      <td>2021</td>\n",
       "      <td>SELL</td>\n",
       "      <td>-586.55694</td>\n",
       "    </tr>\n",
       "    <tr>\n",
       "      <th>6</th>\n",
       "      <td>2022</td>\n",
       "      <td>BUY</td>\n",
       "      <td>625.47628</td>\n",
       "    </tr>\n",
       "    <tr>\n",
       "      <th>7</th>\n",
       "      <td>2022</td>\n",
       "      <td>SELL</td>\n",
       "      <td>-625.06005</td>\n",
       "    </tr>\n",
       "    <tr>\n",
       "      <th>8</th>\n",
       "      <td>2023</td>\n",
       "      <td>BUY</td>\n",
       "      <td>534.85094</td>\n",
       "    </tr>\n",
       "    <tr>\n",
       "      <th>9</th>\n",
       "      <td>2023</td>\n",
       "      <td>SELL</td>\n",
       "      <td>-537.45556</td>\n",
       "    </tr>\n",
       "  </tbody>\n",
       "</table>\n",
       "</div>"
      ],
      "text/plain": [
       "   start_year TREND     CHANGE\n",
       "0        2019   BUY    0.07203\n",
       "1        2019  SELL   -0.24397\n",
       "2        2020   BUY  549.32181\n",
       "3        2020  SELL -553.68158\n",
       "4        2021   BUY  578.24415\n",
       "5        2021  SELL -586.55694\n",
       "6        2022   BUY  625.47628\n",
       "7        2022  SELL -625.06005\n",
       "8        2023   BUY  534.85094\n",
       "9        2023  SELL -537.45556"
      ]
     },
     "execution_count": 47,
     "metadata": {},
     "output_type": "execute_result"
    }
   ],
   "source": [
    "grouped_data"
   ]
  },
  {
   "cell_type": "markdown",
   "id": "9fb0ea63",
   "metadata": {},
   "source": [
    "### Number of Sells vs Buys per Year"
   ]
  },
  {
   "cell_type": "code",
   "execution_count": 56,
   "id": "c14776d9",
   "metadata": {},
   "outputs": [
    {
     "data": {
      "image/png": "[encoded data removed]",
      "text/plain": [
       "<Figure size 1000x600 with 1 Axes>"
      ]
     },
     "metadata": {},
     "output_type": "display_data"
    }
   ],
   "source": [
    "#data2['profit'] = data2['END'] - data2['BEGIN']\n",
    "\n",
    "\n",
    "#data2['start_year'] = data2['START'].dt.year\n",
    "\n",
    "\n",
    "grouped_data = data2.groupby(['start_year', 'TREND'])['profit'].sum().reset_index()\n",
    "\n",
    "# Take absolute values for sells\n",
    "grouped_data.loc[grouped_data['TREND'] == 'SELL', 'profit'] = grouped_data['profit'].abs()\n",
    "\n",
    "\n",
    "pivot_data = grouped_data.pivot(index='start_year', columns='TREND', values='profit').reset_index()\n",
    "\n",
    "\n",
    "pivot_data = pivot_data.fillna(0)\n",
    "\n",
    "\n",
    "pivot_data['Total_Sells'] = pivot_data['SELL']\n",
    "pivot_data['Total_Buys'] = pivot_data['BUY']\n",
    "\n",
    "\n",
    "plt.figure(figsize=(10, 6))\n",
    "sns.lineplot(x='start_year', y='Total_Sells', data=pivot_data, label='Total Sells')\n",
    "sns.lineplot(x='start_year', y='Total_Buys', data=pivot_data, label='Total Buys')\n",
    "\n",
    "\n",
    "plt.title('Total Sells and Buys Over Years')\n",
    "plt.xlabel('Year')\n",
    "plt.ylabel('Total Profit')\n",
    "plt.legend()\n",
    "\n",
    "# Show the plot\n",
    "plt.show()"
   ]
  },
  {
   "cell_type": "markdown",
   "id": "643a5df5",
   "metadata": {},
   "source": [
    "### Level of Activity Weekly."
   ]
  },
  {
   "cell_type": "code",
   "execution_count": 57,
   "id": "d2a8d646",
   "metadata": {
    "scrolled": true
   },
   "outputs": [
    {
     "data": {
      "text/plain": [
       "Index(['TREND', 'CHANGE', 'START', 'STOP', 'BEGIN', 'END', 'difference',\n",
       "       'start_month', 'start_year', 'start_day_of_week', 'end_month',\n",
       "       'end_year', 'end_day_of_week', 'start_day_name', 'stop_day_name',\n",
       "       'profit'],\n",
       "      dtype='object')"
      ]
     },
     "execution_count": 57,
     "metadata": {},
     "output_type": "execute_result"
    }
   ],
   "source": [
    "data2.columns"
   ]
  },
  {
   "cell_type": "code",
   "execution_count": 68,
   "id": "98d9c0da",
   "metadata": {},
   "outputs": [
    {
     "data": {
      "text/plain": [
       "stop_day_name  TREND\n",
       "Friday         BUY      2797\n",
       "               SELL     2789\n",
       "Monday         SELL     2832\n",
       "               BUY      2819\n",
       "Saturday       SELL     2769\n",
       "               BUY      2758\n",
       "Sunday         BUY      2767\n",
       "               SELL     2752\n",
       "Thursday       SELL     2780\n",
       "               BUY      2770\n",
       "Tuesday        BUY      2748\n",
       "               SELL     2742\n",
       "Wednesday      BUY      2782\n",
       "               SELL     2778\n",
       "Name: count, dtype: int64"
      ]
     },
     "execution_count": 68,
     "metadata": {},
     "output_type": "execute_result"
    }
   ],
   "source": [
    "data2.groupby('stop_day_name')['TREND'].value_counts()"
   ]
  },
  {
   "cell_type": "code",
   "execution_count": 74,
   "id": "f34caf66",
   "metadata": {},
   "outputs": [
    {
     "data": {
      "image/png": "[encoded data removed]",
      "text/plain": [
       "<Figure size 1000x600 with 1 Axes>"
      ]
     },
     "metadata": {},
     "output_type": "display_data"
    }
   ],
   "source": [
    "newdata = data2.groupby(['stop_day_name', 'TREND']).size().reset_index(name='count')\n",
    "\n",
    "\n",
    "newdata = newdata.sort_values(by='count', ascending=False)\n",
    "\n",
    "plt.figure(figsize=(10, 6))\n",
    "sns.barplot(x=\"stop_day_name\", y=\"count\", hue=\"TREND\", data=newdata, order=newdata['stop_day_name'].unique())\n",
    "\n",
    "\n",
    "plt.title('Bar Plot of TREND vs. stop_day_name')\n",
    "plt.show()"
   ]
  },
  {
   "cell_type": "code",
   "execution_count": 75,
   "id": "af79c5c1",
   "metadata": {},
   "outputs": [
    {
     "data": {
      "text/html": [
       "<div>\n",
       "<style scoped>\n",
       "    .dataframe tbody tr th:only-of-type {\n",
       "        vertical-align: middle;\n",
       "    }\n",
       "\n",
       "    .dataframe tbody tr th {\n",
       "        vertical-align: top;\n",
       "    }\n",
       "\n",
       "    .dataframe thead th {\n",
       "        text-align: right;\n",
       "    }\n",
       "</style>\n",
       "<table border=\"1\" class=\"dataframe\">\n",
       "  <thead>\n",
       "    <tr style=\"text-align: right;\">\n",
       "      <th></th>\n",
       "      <th>TREND</th>\n",
       "      <th>CHANGE</th>\n",
       "      <th>START</th>\n",
       "      <th>STOP</th>\n",
       "      <th>BEGIN</th>\n",
       "      <th>END</th>\n",
       "      <th>difference</th>\n",
       "      <th>start_month</th>\n",
       "      <th>start_year</th>\n",
       "      <th>start_day_of_week</th>\n",
       "      <th>end_month</th>\n",
       "      <th>end_year</th>\n",
       "      <th>end_day_of_week</th>\n",
       "      <th>start_day_name</th>\n",
       "      <th>stop_day_name</th>\n",
       "      <th>profit</th>\n",
       "    </tr>\n",
       "  </thead>\n",
       "  <tbody>\n",
       "    <tr>\n",
       "      <th>0</th>\n",
       "      <td>SELL</td>\n",
       "      <td>-0.17005</td>\n",
       "      <td>2019-12-31 22:17:00</td>\n",
       "      <td>2019-12-31 23:25:00</td>\n",
       "      <td>10291.1</td>\n",
       "      <td>10273.6</td>\n",
       "      <td>-17.5</td>\n",
       "      <td>12</td>\n",
       "      <td>2019</td>\n",
       "      <td>1</td>\n",
       "      <td>12</td>\n",
       "      <td>2019</td>\n",
       "      <td>1</td>\n",
       "      <td>Tuesday</td>\n",
       "      <td>Tuesday</td>\n",
       "      <td>-17.5</td>\n",
       "    </tr>\n",
       "    <tr>\n",
       "      <th>1</th>\n",
       "      <td>BUY</td>\n",
       "      <td>0.07203</td>\n",
       "      <td>2019-12-31 23:25:00</td>\n",
       "      <td>2019-12-31 23:50:00</td>\n",
       "      <td>10273.6</td>\n",
       "      <td>10281.0</td>\n",
       "      <td>7.4</td>\n",
       "      <td>12</td>\n",
       "      <td>2019</td>\n",
       "      <td>1</td>\n",
       "      <td>12</td>\n",
       "      <td>2019</td>\n",
       "      <td>1</td>\n",
       "      <td>Tuesday</td>\n",
       "      <td>Tuesday</td>\n",
       "      <td>7.4</td>\n",
       "    </tr>\n",
       "    <tr>\n",
       "      <th>2</th>\n",
       "      <td>SELL</td>\n",
       "      <td>-0.07392</td>\n",
       "      <td>2019-12-31 23:50:00</td>\n",
       "      <td>2020-01-01 00:43:00</td>\n",
       "      <td>10281.0</td>\n",
       "      <td>10273.4</td>\n",
       "      <td>-7.6</td>\n",
       "      <td>12</td>\n",
       "      <td>2019</td>\n",
       "      <td>1</td>\n",
       "      <td>1</td>\n",
       "      <td>2020</td>\n",
       "      <td>2</td>\n",
       "      <td>Tuesday</td>\n",
       "      <td>Wednesday</td>\n",
       "      <td>-7.6</td>\n",
       "    </tr>\n",
       "    <tr>\n",
       "      <th>3</th>\n",
       "      <td>BUY</td>\n",
       "      <td>0.05548</td>\n",
       "      <td>2020-01-01 00:43:00</td>\n",
       "      <td>2020-01-01 01:01:00</td>\n",
       "      <td>10273.4</td>\n",
       "      <td>10279.1</td>\n",
       "      <td>5.7</td>\n",
       "      <td>1</td>\n",
       "      <td>2020</td>\n",
       "      <td>2</td>\n",
       "      <td>1</td>\n",
       "      <td>2020</td>\n",
       "      <td>2</td>\n",
       "      <td>Wednesday</td>\n",
       "      <td>Wednesday</td>\n",
       "      <td>5.7</td>\n",
       "    </tr>\n",
       "    <tr>\n",
       "      <th>4</th>\n",
       "      <td>SELL</td>\n",
       "      <td>-0.21792</td>\n",
       "      <td>2020-01-01 01:01:00</td>\n",
       "      <td>2020-01-01 02:16:00</td>\n",
       "      <td>10279.1</td>\n",
       "      <td>10256.7</td>\n",
       "      <td>-22.4</td>\n",
       "      <td>1</td>\n",
       "      <td>2020</td>\n",
       "      <td>2</td>\n",
       "      <td>1</td>\n",
       "      <td>2020</td>\n",
       "      <td>2</td>\n",
       "      <td>Wednesday</td>\n",
       "      <td>Wednesday</td>\n",
       "      <td>-22.4</td>\n",
       "    </tr>\n",
       "  </tbody>\n",
       "</table>\n",
       "</div>"
      ],
      "text/plain": [
       "  TREND   CHANGE               START                STOP    BEGIN      END  \\\n",
       "0  SELL -0.17005 2019-12-31 22:17:00 2019-12-31 23:25:00  10291.1  10273.6   \n",
       "1   BUY  0.07203 2019-12-31 23:25:00 2019-12-31 23:50:00  10273.6  10281.0   \n",
       "2  SELL -0.07392 2019-12-31 23:50:00 2020-01-01 00:43:00  10281.0  10273.4   \n",
       "3   BUY  0.05548 2020-01-01 00:43:00 2020-01-01 01:01:00  10273.4  10279.1   \n",
       "4  SELL -0.21792 2020-01-01 01:01:00 2020-01-01 02:16:00  10279.1  10256.7   \n",
       "\n",
       "   difference  start_month  start_year  start_day_of_week  end_month  \\\n",
       "0       -17.5           12        2019                  1         12   \n",
       "1         7.4           12        2019                  1         12   \n",
       "2        -7.6           12        2019                  1          1   \n",
       "3         5.7            1        2020                  2          1   \n",
       "4       -22.4            1        2020                  2          1   \n",
       "\n",
       "   end_year  end_day_of_week start_day_name stop_day_name  profit  \n",
       "0      2019                1        Tuesday       Tuesday   -17.5  \n",
       "1      2019                1        Tuesday       Tuesday     7.4  \n",
       "2      2020                2        Tuesday     Wednesday    -7.6  \n",
       "3      2020                2      Wednesday     Wednesday     5.7  \n",
       "4      2020                2      Wednesday     Wednesday   -22.4  "
      ]
     },
     "execution_count": 75,
     "metadata": {},
     "output_type": "execute_result"
    }
   ],
   "source": [
    "data2.head()"
   ]
  },
  {
   "cell_type": "markdown",
   "id": "80834520",
   "metadata": {},
   "source": [
    "### Extracting the hour and minute of activities."
   ]
  },
  {
   "cell_type": "code",
   "execution_count": 76,
   "id": "f1d20c6f",
   "metadata": {},
   "outputs": [],
   "source": [
    "data2['start_minutes'] = data2['START'].dt.minute\n",
    "data2['start_hour'] = data2['START'].dt.hour\n",
    "\n",
    "data2['stop_minutes'] = data2['STOP'].dt.minute\n",
    "data2['stop_hour'] = data2['STOP'].dt.hour"
   ]
  },
  {
   "cell_type": "code",
   "execution_count": 77,
   "id": "e6cd75bf",
   "metadata": {},
   "outputs": [
    {
     "data": {
      "text/html": [
       "<div>\n",
       "<style scoped>\n",
       "    .dataframe tbody tr th:only-of-type {\n",
       "        vertical-align: middle;\n",
       "    }\n",
       "\n",
       "    .dataframe tbody tr th {\n",
       "        vertical-align: top;\n",
       "    }\n",
       "\n",
       "    .dataframe thead th {\n",
       "        text-align: right;\n",
       "    }\n",
       "</style>\n",
       "<table border=\"1\" class=\"dataframe\">\n",
       "  <thead>\n",
       "    <tr style=\"text-align: right;\">\n",
       "      <th></th>\n",
       "      <th>TREND</th>\n",
       "      <th>CHANGE</th>\n",
       "      <th>START</th>\n",
       "      <th>STOP</th>\n",
       "      <th>BEGIN</th>\n",
       "      <th>END</th>\n",
       "      <th>difference</th>\n",
       "      <th>start_month</th>\n",
       "      <th>start_year</th>\n",
       "      <th>start_day_of_week</th>\n",
       "      <th>end_month</th>\n",
       "      <th>end_year</th>\n",
       "      <th>end_day_of_week</th>\n",
       "      <th>start_day_name</th>\n",
       "      <th>stop_day_name</th>\n",
       "      <th>profit</th>\n",
       "      <th>start_minutes</th>\n",
       "      <th>start_hour</th>\n",
       "      <th>stop_minutes</th>\n",
       "      <th>stop_hour</th>\n",
       "    </tr>\n",
       "  </thead>\n",
       "  <tbody>\n",
       "    <tr>\n",
       "      <th>0</th>\n",
       "      <td>SELL</td>\n",
       "      <td>-0.17005</td>\n",
       "      <td>2019-12-31 22:17:00</td>\n",
       "      <td>2019-12-31 23:25:00</td>\n",
       "      <td>10291.1</td>\n",
       "      <td>10273.6</td>\n",
       "      <td>-17.5</td>\n",
       "      <td>12</td>\n",
       "      <td>2019</td>\n",
       "      <td>1</td>\n",
       "      <td>12</td>\n",
       "      <td>2019</td>\n",
       "      <td>1</td>\n",
       "      <td>Tuesday</td>\n",
       "      <td>Tuesday</td>\n",
       "      <td>-17.5</td>\n",
       "      <td>17</td>\n",
       "      <td>22</td>\n",
       "      <td>25</td>\n",
       "      <td>23</td>\n",
       "    </tr>\n",
       "    <tr>\n",
       "      <th>1</th>\n",
       "      <td>BUY</td>\n",
       "      <td>0.07203</td>\n",
       "      <td>2019-12-31 23:25:00</td>\n",
       "      <td>2019-12-31 23:50:00</td>\n",
       "      <td>10273.6</td>\n",
       "      <td>10281.0</td>\n",
       "      <td>7.4</td>\n",
       "      <td>12</td>\n",
       "      <td>2019</td>\n",
       "      <td>1</td>\n",
       "      <td>12</td>\n",
       "      <td>2019</td>\n",
       "      <td>1</td>\n",
       "      <td>Tuesday</td>\n",
       "      <td>Tuesday</td>\n",
       "      <td>7.4</td>\n",
       "      <td>25</td>\n",
       "      <td>23</td>\n",
       "      <td>50</td>\n",
       "      <td>23</td>\n",
       "    </tr>\n",
       "    <tr>\n",
       "      <th>2</th>\n",
       "      <td>SELL</td>\n",
       "      <td>-0.07392</td>\n",
       "      <td>2019-12-31 23:50:00</td>\n",
       "      <td>2020-01-01 00:43:00</td>\n",
       "      <td>10281.0</td>\n",
       "      <td>10273.4</td>\n",
       "      <td>-7.6</td>\n",
       "      <td>12</td>\n",
       "      <td>2019</td>\n",
       "      <td>1</td>\n",
       "      <td>1</td>\n",
       "      <td>2020</td>\n",
       "      <td>2</td>\n",
       "      <td>Tuesday</td>\n",
       "      <td>Wednesday</td>\n",
       "      <td>-7.6</td>\n",
       "      <td>50</td>\n",
       "      <td>23</td>\n",
       "      <td>43</td>\n",
       "      <td>0</td>\n",
       "    </tr>\n",
       "    <tr>\n",
       "      <th>3</th>\n",
       "      <td>BUY</td>\n",
       "      <td>0.05548</td>\n",
       "      <td>2020-01-01 00:43:00</td>\n",
       "      <td>2020-01-01 01:01:00</td>\n",
       "      <td>10273.4</td>\n",
       "      <td>10279.1</td>\n",
       "      <td>5.7</td>\n",
       "      <td>1</td>\n",
       "      <td>2020</td>\n",
       "      <td>2</td>\n",
       "      <td>1</td>\n",
       "      <td>2020</td>\n",
       "      <td>2</td>\n",
       "      <td>Wednesday</td>\n",
       "      <td>Wednesday</td>\n",
       "      <td>5.7</td>\n",
       "      <td>43</td>\n",
       "      <td>0</td>\n",
       "      <td>1</td>\n",
       "      <td>1</td>\n",
       "    </tr>\n",
       "    <tr>\n",
       "      <th>4</th>\n",
       "      <td>SELL</td>\n",
       "      <td>-0.21792</td>\n",
       "      <td>2020-01-01 01:01:00</td>\n",
       "      <td>2020-01-01 02:16:00</td>\n",
       "      <td>10279.1</td>\n",
       "      <td>10256.7</td>\n",
       "      <td>-22.4</td>\n",
       "      <td>1</td>\n",
       "      <td>2020</td>\n",
       "      <td>2</td>\n",
       "      <td>1</td>\n",
       "      <td>2020</td>\n",
       "      <td>2</td>\n",
       "      <td>Wednesday</td>\n",
       "      <td>Wednesday</td>\n",
       "      <td>-22.4</td>\n",
       "      <td>1</td>\n",
       "      <td>1</td>\n",
       "      <td>16</td>\n",
       "      <td>2</td>\n",
       "    </tr>\n",
       "  </tbody>\n",
       "</table>\n",
       "</div>"
      ],
      "text/plain": [
       "  TREND   CHANGE               START                STOP    BEGIN      END  \\\n",
       "0  SELL -0.17005 2019-12-31 22:17:00 2019-12-31 23:25:00  10291.1  10273.6   \n",
       "1   BUY  0.07203 2019-12-31 23:25:00 2019-12-31 23:50:00  10273.6  10281.0   \n",
       "2  SELL -0.07392 2019-12-31 23:50:00 2020-01-01 00:43:00  10281.0  10273.4   \n",
       "3   BUY  0.05548 2020-01-01 00:43:00 2020-01-01 01:01:00  10273.4  10279.1   \n",
       "4  SELL -0.21792 2020-01-01 01:01:00 2020-01-01 02:16:00  10279.1  10256.7   \n",
       "\n",
       "   difference  start_month  start_year  start_day_of_week  end_month  \\\n",
       "0       -17.5           12        2019                  1         12   \n",
       "1         7.4           12        2019                  1         12   \n",
       "2        -7.6           12        2019                  1          1   \n",
       "3         5.7            1        2020                  2          1   \n",
       "4       -22.4            1        2020                  2          1   \n",
       "\n",
       "   end_year  end_day_of_week start_day_name stop_day_name  profit  \\\n",
       "0      2019                1        Tuesday       Tuesday   -17.5   \n",
       "1      2019                1        Tuesday       Tuesday     7.4   \n",
       "2      2020                2        Tuesday     Wednesday    -7.6   \n",
       "3      2020                2      Wednesday     Wednesday     5.7   \n",
       "4      2020                2      Wednesday     Wednesday   -22.4   \n",
       "\n",
       "   start_minutes  start_hour  stop_minutes  stop_hour  \n",
       "0             17          22            25         23  \n",
       "1             25          23            50         23  \n",
       "2             50          23            43          0  \n",
       "3             43           0             1          1  \n",
       "4              1           1            16          2  "
      ]
     },
     "execution_count": 77,
     "metadata": {},
     "output_type": "execute_result"
    }
   ],
   "source": [
    "data2.head()"
   ]
  },
  {
   "cell_type": "markdown",
   "id": "d62b21da",
   "metadata": {},
   "source": [
    "### Activity for different hours of the day."
   ]
  },
  {
   "cell_type": "code",
   "execution_count": 78,
   "id": "469962d2",
   "metadata": {},
   "outputs": [
    {
     "data": {
      "image/png": "[encoded data removed]",
      "text/plain": [
       "<Figure size 1000x600 with 1 Axes>"
      ]
     },
     "metadata": {},
     "output_type": "display_data"
    }
   ],
   "source": [
    "hourly_counts = data2.groupby(['start_hour', 'TREND']).size().reset_index(name='count')\n",
    "\n",
    "# Pivot the table to have 'TREND' values as columns\n",
    "hourly_counts_pivot = hourly_counts.pivot(index='start_hour', columns='TREND', values='count').fillna(0)\n",
    "\n",
    "# Plot the line chart\n",
    "plt.figure(figsize=(10, 6))\n",
    "sns.lineplot(data=hourly_counts_pivot)\n",
    "plt.title('TREND Counts Based on Hour of the Day')\n",
    "plt.xlabel('Hour of the Day')\n",
    "plt.ylabel('Count')\n",
    "plt.legend(title='TREND')\n",
    "plt.show()"
   ]
  },
  {
   "cell_type": "code",
   "execution_count": 79,
   "id": "087c8dea",
   "metadata": {},
   "outputs": [],
   "source": [
    "data2.to_csv(r'C:\\Users\\arnol\\OneDrive\\Documents\\Trends\\trends_cleaned.csv')"
   ]
  }
 ],
 "metadata": {
  "kernelspec": {
   "display_name": "Python 3 (ipykernel)",
   "language": "python",
   "name": "python3"
  },
  "language_info": {
   "codemirror_mode": {
    "name": "ipython",
    "version": 3
   },
   "file_extension": ".py",
   "mimetype": "text/x-python",
   "name": "python",
   "nbconvert_exporter": "python",
   "pygments_lexer": "ipython3",
   "version": "3.11.5"
  }
 },
 "nbformat": 4,
 "nbformat_minor": 5
}
